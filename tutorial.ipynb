{
 "cells": [
  {
   "cell_type": "markdown",
   "id": "d92a3dd2",
   "metadata": {},
   "source": [
    "# Tutorial 'QC, topographical analysis and segmentaton-free of Spot-based transcriptomics data'\n",
    "\n",
    "\n",
    "This tutorial was made to showcase the ISS analysis workflow at our group, which is based on a segmentation-free mindset. It makes use of a python package called 'planktonpy', in which I collected functinalities of past analysis projects for others to use. Is strongly inspired by the *squidpy* package, but targeted especially at the topographical analysis of spot-based data."
   ]
  },
  {
   "cell_type": "code",
   "execution_count": null,
   "id": "39d22013",
   "metadata": {},
   "outputs": [],
   "source": [
    "%load_ext autoreload\n",
    "%autoreload 2\n",
    "\n",
    "## Make screen wider, add planktonpy folder to system path to enable import:\n",
    "\n",
    "from IPython.display import display, HTML\n",
    "display(HTML(\"<style>.container { width:95% !important; }</style>\"))\n",
    "\n",
    "import sys\n",
    "import os\n",
    "\n",
    "sys.path.append(os.path.join(os.path.abspath('.'),'../..'))"
   ]
  },
  {
   "cell_type": "markdown",
   "id": "56e845c6",
   "metadata": {},
   "source": [
    "### data import:"
   ]
  },
  {
   "cell_type": "code",
   "execution_count": null,
   "id": "c151ab15",
   "metadata": {},
   "outputs": [],
   "source": [
    "import plankton.plankton as pl\n",
    "import matplotlib.pyplot as plt\n",
    "import numpy as np\n",
    "import pandas as pd\n",
    "\n",
    "def figure(width=6,height=6):\n",
    "    plt.figure(figsize=(width,height))\n"
   ]
  },
  {
   "cell_type": "markdown",
   "id": "6f8e6383",
   "metadata": {},
   "source": [
    "### Coordinates are loaded as a pd.DataFrame:"
   ]
  },
  {
   "cell_type": "code",
   "execution_count": null,
   "id": "7940ec89",
   "metadata": {},
   "outputs": [],
   "source": [
    "um_p_px = 0.325\n",
    "\n",
    "# Read coordinate/gene data from .csv file\n",
    "coordinates = pd.read_csv('./data/S2T1_pcw6.csv')\n",
    "coordinates"
   ]
  },
  {
   "cell_type": "markdown",
   "id": "d3625610",
   "metadata": {},
   "source": [
    "### For reference during analysis, I found it very handy to have a stain image at hand:"
   ]
  },
  {
   "cell_type": "code",
   "execution_count": null,
   "id": "e64f278e",
   "metadata": {},
   "outputs": [],
   "source": [
    "# Load staining image as .jpg:\n",
    "\n",
    "bg = -plt.imread('./data/background.jpg').mean(-1)\n",
    "bg = (bg-bg.min())/(bg.max()-bg.min())\n",
    "\n",
    "plt.imshow(bg,cmap='Greys')"
   ]
  },
  {
   "cell_type": "markdown",
   "id": "87206058",
   "metadata": {
    "scrolled": false
   },
   "source": [
    "### To make life easier, we can extract (x,y) coordinates and gene labels from the data frame:"
   ]
  },
  {
   "cell_type": "code",
   "execution_count": null,
   "id": "72249a58",
   "metadata": {},
   "outputs": [],
   "source": [
    "# rands = np.random.rand(5000,2,)*np.array([coordinates.Global_x_pos.values.max(),coordinates.Global_y_pos.values.max()])\n",
    "\n",
    "# x = np.hstack([coordinates.Global_x_pos.values,rands[:,0]])\n",
    "# y = np.hstack([coordinates.Global_y_pos.values,rands[:,1]])\n",
    "\n",
    "# rand_genes = coordinates.Gene.values[np.random.randint(len(coordinates.Gene.unique()), size=(rands.shape[0]))]\n",
    "# g = np.hstack([coordinates.Gene.values,rand_genes])\n",
    "# g = np.hstack([coordinates.Gene.values,['noise']*rands.shape[0]])\n",
    "\n",
    "x =  coordinates.Global_x_pos.values \n",
    "y =  coordinates.Global_y_pos.values \n",
    "\n",
    "g =  coordinates.Gene.values\n",
    "\n"
   ]
  },
  {
   "cell_type": "markdown",
   "id": "c31223fd",
   "metadata": {},
   "source": [
    "## ...and the stage is yours!\n",
    "\n",
    "You can now create a plankton.SpatialData frame. It's a subclass of pandas.DataFrame and inherits all of its properties. There is a bit of added functionality though, and the indexing works different (namely along the vertical axis primarily):"
   ]
  },
  {
   "cell_type": "code",
   "execution_count": null,
   "id": "e17cccbb",
   "metadata": {},
   "outputs": [],
   "source": [
    "# Create a plankton-SpatialData object with the coordinates:\n",
    "\n",
    "sdata = pl.SpatialData(\n",
    "                        coordinates.Gene,\n",
    "                        coordinates.Global_x_pos*um_p_px,\n",
    "                        coordinates.Global_y_pos*um_p_px,\n",
    "                        )\n",
    "\n",
    "#show HTML representation:\n",
    "sdata"
   ]
  },
  {
   "cell_type": "markdown",
   "id": "5b20e277",
   "metadata": {},
   "source": [
    "### sdata comes with a few indicators for free, some of which are listed in the gene-centric 'stats' property:"
   ]
  },
  {
   "cell_type": "code",
   "execution_count": null,
   "id": "484d0e58",
   "metadata": {},
   "outputs": [],
   "source": [
    "# inspect 'stats' info frame:\n",
    "\n",
    "sdata.stats"
   ]
  },
  {
   "cell_type": "code",
   "execution_count": null,
   "id": "a87910fe",
   "metadata": {},
   "outputs": [],
   "source": [
    "# Plot a representation of the gene counts in the data set:\n",
    "\n",
    "figure(20,5)\n",
    "sdata.counts.sort_values().plot.bar()"
   ]
  },
  {
   "cell_type": "code",
   "execution_count": null,
   "id": "0ac0084b",
   "metadata": {},
   "outputs": [],
   "source": [
    "# Plot 'overview/summary' data set :\n",
    "sdata.plot_overview()"
   ]
  },
  {
   "cell_type": "code",
   "execution_count": null,
   "id": "79b433e2",
   "metadata": {},
   "outputs": [],
   "source": [
    "# use the 'scatter' function to get familiar with the data set:\n",
    "\n",
    "plt.figure(figsize=(15,15))\n",
    "\n",
    "sdata.scatter(alpha=0.2)"
   ]
  },
  {
   "cell_type": "markdown",
   "id": "d4fbd9b4",
   "metadata": {},
   "source": [
    "#### Adding a pixel map as background image:\n",
    "\n",
    "We can create a PixelMap object to integrate the spot-based molecule coordinates and the pixel/grid based image data:"
   ]
  },
  {
   "cell_type": "code",
   "execution_count": null,
   "id": "9d691778",
   "metadata": {},
   "outputs": [],
   "source": [
    "bg_map = pl.PixelMap(pixel_data=bg,\n",
    "                     cmap='Greys',\n",
    "                     px_p_um = 0.504/um_p_px)\n",
    "bg_map.imshow()\n"
   ]
  },
  {
   "cell_type": "markdown",
   "id": "a50ad417",
   "metadata": {},
   "source": [
    "... and feed the pixel map to sdata during creation:"
   ]
  },
  {
   "cell_type": "code",
   "execution_count": null,
   "id": "e42e2661",
   "metadata": {},
   "outputs": [],
   "source": [
    "sdata = pl.SpatialData(\n",
    "                        coordinates.Gene,\n",
    "                        coordinates.Global_x_pos*um_p_px,\n",
    "                        coordinates.Global_y_pos*um_p_px,\n",
    "                        pixel_maps={'DAPI':bg_map}\n",
    "                        )"
   ]
  },
  {
   "cell_type": "markdown",
   "id": "90cb3c96",
   "metadata": {},
   "source": [
    "### The scatter plots now automatically contain a plot background:"
   ]
  },
  {
   "cell_type": "code",
   "execution_count": null,
   "id": "8322fb54",
   "metadata": {},
   "outputs": [],
   "source": [
    "plt.figure(figsize=(19,8))\n",
    "\n",
    "plt.subplot(1,3,1)\n",
    "plt.title('coordinates')\n",
    "plt.scatter(*sdata.coordinates[:,:].T*np.array([[1],[-1]]),c=sdata.var.c_genes[sdata.gene_ids],marker='.',alpha=0.1)\n",
    "\n",
    "plt.subplot(1,3,2)\n",
    "plt.title('plankton')\n",
    "sdata.scatter(alpha=0.1)\n",
    "\n",
    "ax=plt.subplot(1,3,3)\n",
    "plt.title('DAPI stain')\n",
    "bg_map.imshow(axd=ax)"
   ]
  },
  {
   "cell_type": "markdown",
   "id": "a4c2d554",
   "metadata": {},
   "source": [
    "#### basic slicing functionality:"
   ]
  },
  {
   "cell_type": "code",
   "execution_count": null,
   "id": "9d9a996b",
   "metadata": {},
   "outputs": [],
   "source": [
    "plt.figure(figsize=(20,7))\n",
    "\n",
    "\n",
    "# Slice using array notation:\n",
    "plt.subplot(1,4,1)\n",
    "plt.title('subsampled by 200:')\n",
    "sdata[::200].scatter()\n",
    "\n",
    "# Subsample using boolean mask:\n",
    "plt.subplot(1,4,2)\n",
    "plt.title('subsampled for HGF,WNT2:')\n",
    "sdata[sdata.g.isin(['HGF','WNT2'])].scatter(legend=True)\n",
    "\n",
    "# Subsample using spatial view:\n",
    "plt.subplot(1,4,3)\n",
    "plt.title('subsampled in space:')\n",
    "sdata.spatial[100:2800,1000:].scatter(alpha=0.1)\n"
   ]
  },
  {
   "cell_type": "markdown",
   "id": "ab92a04a",
   "metadata": {},
   "source": [
    "## Task:\n",
    "\n",
    "use sdata.counts and sdata.gene_ids-indexing to plot all genes that occur below 200 times in the sample:"
   ]
  },
  {
   "cell_type": "code",
   "execution_count": null,
   "id": "fbddfa96",
   "metadata": {},
   "outputs": [],
   "source": [
    "figure(9,9)\n",
    "sdata[(sdata.counts<200)[sdata.gene_ids]].scatter(marker='x',legend=True)"
   ]
  },
  {
   "cell_type": "markdown",
   "id": "c6a00be9",
   "metadata": {},
   "source": [
    "# Supervised analysis:\n",
    "\n",
    "Often, larger scale projects follow a multi-omics approach where external expression data is available for analysis. We can make use of this external data for quality control and to perform supervized analysis:"
   ]
  },
  {
   "cell_type": "code",
   "execution_count": null,
   "id": "d53261e2",
   "metadata": {},
   "outputs": [],
   "source": [
    "# 'cheat-create' an anndata set:\n",
    "\n",
    "pci = pd.read_csv('./data/S2T1_pcw6_complex_celltypes_formatted.csv',index_col=0)\n",
    "import anndata\n",
    "\n",
    "cts = pci['cell type'].unique()\n",
    "cts = [c[:-1] if c[-1]==' ' else c for c in cts]\n",
    "cts = sorted(pd.Series([c[:-2] if c[-1].isdigit() else c for c in cts]).unique())\n",
    "# cts\n",
    "\n",
    "signatures = pd.DataFrame(columns=cts,index=pci.columns[78:])\n",
    "\n",
    "\n",
    "for c in cts:\n",
    "    kewl = pci[pci['cell type'].str.contains(c)]\n",
    "    signatures[c] = kewl.iloc[:,78:].mean(0)\n",
    "    \n",
    "\n",
    "adata = anndata.AnnData(signatures.T)\n",
    "adata.X = np.array(np.nan_to_num(signatures.T))\n",
    "adata.obs['celltype'] = adata.obs.index\n",
    "\n",
    "# pl.ScanpyDataFrame(sdata,adata)"
   ]
  },
  {
   "cell_type": "markdown",
   "id": "dfb00002",
   "metadata": {},
   "source": [
    "An AnnData object can be passed during initialization, which is then integrated with the spatial data set. Genes that do not occur in both data sets are removed, and sdata.clean() removes the empty gene categories from the statistics/var list:"
   ]
  },
  {
   "cell_type": "code",
   "execution_count": null,
   "id": "8a74d9b7",
   "metadata": {},
   "outputs": [],
   "source": [
    "sdata = pl.SpatialData(\n",
    "                        coordinates.Gene,\n",
    "                        coordinates.Global_x_pos*um_p_px,\n",
    "                        coordinates.Global_y_pos*um_p_px,\n",
    "#                         pixel_maps={'DAPI':bg_map},\n",
    "                        scanpy=adata\n",
    "                        )\n",
    "\n",
    "sdata = sdata.clean()"
   ]
  },
  {
   "cell_type": "code",
   "execution_count": null,
   "id": "fc9f9053",
   "metadata": {},
   "outputs": [],
   "source": [
    "sdata.scanpy"
   ]
  },
  {
   "cell_type": "markdown",
   "id": "21190c09",
   "metadata": {},
   "source": [
    "For quality control, we can compare count distributions between the two modalities:"
   ]
  },
  {
   "cell_type": "code",
   "execution_count": null,
   "id": "ba77593b",
   "metadata": {},
   "outputs": [],
   "source": [
    "from plankton.utils import hbar_compare\n",
    "\n",
    "figure(10,10)\n",
    "hbar_compare(sdata.stats,sdata.scanpy.stats,['ISS','scRNAseq'])"
   ]
  },
  {
   "cell_type": "markdown",
   "id": "a6131ecf",
   "metadata": {},
   "source": [
    "\n",
    "\n",
    "In the next step, it is necessary to generate a signature matrix from the available expression data.\n",
    "The matrix should contain a single correlation indicator for each gene <-> celltype pair:"
   ]
  },
  {
   "cell_type": "code",
   "execution_count": null,
   "id": "bea493b2",
   "metadata": {
    "scrolled": true
   },
   "outputs": [],
   "source": [
    "signatures = sdata.scanpy.generate_signatures()\n",
    "\n",
    "signatures[signatures.isna()]=0\n",
    "\n",
    "signatures"
   ]
  },
  {
   "cell_type": "code",
   "execution_count": null,
   "id": "6306bfdf",
   "metadata": {
    "scrolled": true
   },
   "outputs": [],
   "source": [
    "from plankton.utils import ssam\n",
    "\n",
    "ctmap = ssam(sdata,signatures=signatures,kernel_bandwidth=4,patch_length=1000,threshold_cor=0.2,threshold_exp=0.1)"
   ]
  },
  {
   "cell_type": "code",
   "execution_count": null,
   "id": "3ab9d1e9",
   "metadata": {
    "scrolled": false
   },
   "outputs": [],
   "source": [
    "\n",
    "\n",
    "\n",
    "figure(15,20)\n",
    "\n",
    "ctmap.imshow(cmap='nipy_spectral',interpolation='none')\n",
    "\n",
    "# plt.legend(handles,labels,)"
   ]
  },
  {
   "cell_type": "markdown",
   "id": "3f046d8c",
   "metadata": {},
   "source": [
    "ctmap.get_value() can be used to extract the value at defined coordinate points:"
   ]
  },
  {
   "cell_type": "code",
   "execution_count": null,
   "id": "b242b168",
   "metadata": {},
   "outputs": [],
   "source": [
    "# sample the map's values at all molecule locations:\n",
    "values_at_xy = ctmap.get_value(sdata.x,sdata.y)\n",
    "\n",
    "# assign tissue label to sampled values:\n",
    "celltype_labels = adata.obs['celltype'].values[values_at_xy]\n",
    "celltype_labels[ctmap.get_value(sdata.x,sdata.y)==-1]='other'\n",
    "\n",
    "# add to sdata frame:\n",
    "sdata['celltype']= celltype_labels\n",
    "sdata['celltype'] = sdata.celltype.astype('category')\n",
    "\n",
    "sdata"
   ]
  },
  {
   "cell_type": "markdown",
   "id": "708cefaa",
   "metadata": {},
   "source": [
    "This allows adding a legend to the map and performing some statistics on the molecule data:"
   ]
  },
  {
   "cell_type": "code",
   "execution_count": null,
   "id": "2526e33d",
   "metadata": {
    "scrolled": false
   },
   "outputs": [],
   "source": [
    "from matplotlib.cm import get_cmap\n",
    "\n",
    "labels = sdata.celltype.cat.categories\n",
    "\n",
    "\n",
    "cm = get_cmap('nipy_spectral')\n",
    "tissue_colors = [cm((i+1)/len(labels)) for i in range(len(labels)-1)]\n",
    "\n",
    "\n",
    "figure(15,20)\n",
    "\n",
    "handles = [plt.scatter([],[],color=tissue_colors[i]) for i in range(len(labels)-1)]\n",
    "\n",
    "ctmap.imshow(cmap='nipy_spectral',interpolation='none')\n",
    "\n",
    "plt.legend(handles,labels,)"
   ]
  },
  {
   "cell_type": "code",
   "execution_count": null,
   "id": "65ff5aae",
   "metadata": {
    "scrolled": false
   },
   "outputs": [],
   "source": [
    "figure(25,25)\n",
    "\n",
    "for i,g in enumerate(adata.obs['celltype']):\n",
    "    \n",
    "    plt.subplot(7,7,i+1)\n",
    "    \n",
    "    plt.title(g)\n",
    "    \n",
    "    (ctmap==i).imshow(cmap='Reds')"
   ]
  },
  {
   "cell_type": "markdown",
   "id": "adf0258f",
   "metadata": {},
   "source": [
    "The excellent squidpy implementations can be used to identify spatial neighborhood enrichment effects among the molecules:"
   ]
  },
  {
   "cell_type": "code",
   "execution_count": null,
   "id": "ab8d8d5b",
   "metadata": {},
   "outputs": [],
   "source": [
    "import squidpy as sq\n",
    "\n",
    "\n",
    "sq.gr.spatial_neighbors(sdata, key_added='spatial')\n",
    "sq.gr.nhood_enrichment(sdata,'celltype')"
   ]
  },
  {
   "cell_type": "code",
   "execution_count": null,
   "id": "e71bcdd1",
   "metadata": {},
   "outputs": [],
   "source": [
    "sq.pl.nhood_enrichment(sdata,'celltype')"
   ]
  },
  {
   "cell_type": "markdown",
   "id": "164602c7",
   "metadata": {},
   "source": [
    "Also, sdata comes with a dedicated function to compute co-occurrence in space amongst the different molecule classes:"
   ]
  },
  {
   "cell_type": "code",
   "execution_count": null,
   "id": "443aaffc",
   "metadata": {
    "scrolled": true
   },
   "outputs": [],
   "source": [
    "# compute co-occurrence indicator for each class-class-pair:\n",
    "cooc = sdata.stats.co_occurrence(resolution=10,max_radius=500,linear_steps=40,category='celltype')"
   ]
  },
  {
   "cell_type": "markdown",
   "id": "8f1f153e",
   "metadata": {},
   "source": [
    "As an example, the width of the auto-co-occurrence peak next to the center indicates the radius of the respective individual structures:"
   ]
  },
  {
   "cell_type": "code",
   "execution_count": null,
   "id": "d004660e",
   "metadata": {
    "scrolled": false
   },
   "outputs": [],
   "source": [
    "autos = cooc.diagonal()\n",
    "\n",
    "figure(20,10)\n",
    "\n",
    "for i,c in enumerate(tissue_colors):\n",
    "    _=plt.plot(autos[:,i]/autos[0,i], c = c)\n",
    "\n",
    "plt.legend(handles,labels,)"
   ]
  },
  {
   "cell_type": "code",
   "execution_count": null,
   "id": "8acabe78",
   "metadata": {},
   "outputs": [],
   "source": []
  }
 ],
 "metadata": {
  "kernelspec": {
   "display_name": "Python 3 (ipykernel)",
   "language": "python",
   "name": "python3"
  },
  "language_info": {
   "codemirror_mode": {
    "name": "ipython",
    "version": 3
   },
   "file_extension": ".py",
   "mimetype": "text/x-python",
   "name": "python",
   "nbconvert_exporter": "python",
   "pygments_lexer": "ipython3",
   "version": "3.9.13"
  }
 },
 "nbformat": 4,
 "nbformat_minor": 5
}
