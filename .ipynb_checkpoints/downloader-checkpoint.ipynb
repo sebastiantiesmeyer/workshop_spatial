{
 "cells": [
  {
   "cell_type": "code",
   "execution_count": 1,
   "id": "fdf3bb89",
   "metadata": {},
   "outputs": [],
   "source": [
    "import os"
   ]
  },
  {
   "cell_type": "code",
   "execution_count": 2,
   "id": "4ab7c583",
   "metadata": {},
   "outputs": [],
   "source": [
    "if not 'data' in os.listdir('.'):\n",
    "    os.mkdir('./data')\n",
    "    \n"
   ]
  },
  {
   "cell_type": "code",
   "execution_count": 3,
   "id": "17dde538",
   "metadata": {},
   "outputs": [
    {
     "data": {
      "text/plain": [
       "('./data/S2T1_pcw6_complex_celltypes_formatted.csv',\n",
       " <http.client.HTTPMessage at 0x7f0cfc7e3580>)"
      ]
     },
     "execution_count": 3,
     "metadata": {},
     "output_type": "execute_result"
    }
   ],
   "source": [
    "from urllib import request\n",
    "request.urlretrieve( 'https://export.uppmax.uu.se/snic2022-23-113/courses/spatial_omics_2022/in_situ_sequencing/S2T1_pcw6_complex_celltypes_formatted.csv' , \n",
    "                    './data/S2T1_pcw6_complex_celltypes_formatted.csv' )"
   ]
  },
  {
   "cell_type": "code",
   "execution_count": 4,
   "id": "874ccabd",
   "metadata": {},
   "outputs": [
    {
     "data": {
      "text/plain": [
       "('./data/background.jpg', <http.client.HTTPMessage at 0x7f0cfc7c3040>)"
      ]
     },
     "execution_count": 4,
     "metadata": {},
     "output_type": "execute_result"
    }
   ],
   "source": [
    "request.urlretrieve( 'https://export.uppmax.uu.se/snic2022-23-113/courses/spatial_omics_2022/in_situ_sequencing/background.jpg' , \n",
    "                    './data/background.jpg' )"
   ]
  },
  {
   "cell_type": "code",
   "execution_count": null,
   "id": "25e7d60b",
   "metadata": {},
   "outputs": [],
   "source": [
    "request.urlretrieve( 'https://export.uppmax.uu.se/snic2022-23-113/courses/spatial_omics_2022/in_situ_sequencing/S2T1_pcw6.csv' , \n",
    "                    './data/S2T1_pcw6.csv' )"
   ]
  }
 ],
 "metadata": {
  "kernelspec": {
   "display_name": "Python 3 (ipykernel)",
   "language": "python",
   "name": "python3"
  },
  "language_info": {
   "codemirror_mode": {
    "name": "ipython",
    "version": 3
   },
   "file_extension": ".py",
   "mimetype": "text/x-python",
   "name": "python",
   "nbconvert_exporter": "python",
   "pygments_lexer": "ipython3",
   "version": "3.9.13"
  }
 },
 "nbformat": 4,
 "nbformat_minor": 5
}
